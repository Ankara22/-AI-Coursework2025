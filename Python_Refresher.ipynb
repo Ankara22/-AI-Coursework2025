{
 "cells": [
  {
   "cell_type": "markdown",
   "id": "fc6658bf",
   "metadata": {},
   "source": [
    "# Python Refresher\n",
    "\n",
    "This notebook contains a series of short exercises. Each section has a brief prompt followed by a runnable Python solution.\n"
   ]
  },
  {
   "cell_type": "markdown",
   "id": "f8e9ae72",
   "metadata": {},
   "source": [
    "## Question 1: Seconds in given days\n",
    "Prompt: Ask for a number of days and print the number of seconds.\n"
   ]
  },
  {
   "cell_type": "code",
   "execution_count": null,
   "id": "0ca968dd",
   "metadata": {},
   "outputs": [],
   "source": [
    "# Flow: read input -> validate -> compute -> output\n",
    "\n",
    "def seconds_in_days():\n",
    "    try:\n",
    "        # Read input and parse to integer\n",
    "        days_str = input(\"Enter number of days: \").strip()\n",
    "        days = int(days_str)\n",
    "        # Validate domain\n",
    "        if days < 0:\n",
    "            print(\"Please enter a non-negative integer for days.\")\n",
    "            return\n",
    "        # Compute seconds in given days\n",
    "        seconds = days * 24 * 60 * 60\n",
    "        # Output result\n",
    "        print(f\"There are {seconds} seconds in {days} day(s).\")\n",
    "    except ValueError:\n",
    "        # Handle non-integer input\n",
    "        print(\"Invalid input. Please enter a whole number (integer).\")\n",
    "\n",
    "# Run example\n",
    "seconds_in_days()\n"
   ]
  },
  {
   "cell_type": "markdown",
   "id": "33b1f26a",
   "metadata": {},
   "source": [
    "## Question 2: Volume of a sphere\n",
    "Prompt: Request a sphere radius and print its volume using (4/3)*pi*r**3.\n"
   ]
  },
  {
   "cell_type": "code",
   "execution_count": null,
   "id": "b22f5c61",
   "metadata": {},
   "outputs": [],
   "source": [
    "# Flow: read input -> validate -> compute -> output\n",
    "\n",
    "def volume_of_sphere():\n",
    "    try:\n",
    "        # Read input and parse to float\n",
    "        radius_str = input(\"Enter the radius of the sphere: \").strip()\n",
    "        radius = float(radius_str)\n",
    "        # Validate domain\n",
    "        if radius < 0:\n",
    "            print(\"Please enter a positive number for the radius.\")\n",
    "            return\n",
    "        # Compute volume using (4/3)*pi*r**3 (pi≈3.142)\n",
    "        volume = (4 / 3) * 3.142 * (radius ** 3)\n",
    "        # Output result\n",
    "        print(f\"The volume of the sphere is {volume}.\")\n",
    "    except ValueError:\n",
    "        # Handle non-numeric input\n",
    "        print(\"Invalid input. Please enter a numeric value for the radius.\")\n",
    "\n",
    "# Run example\n",
    "volume_of_sphere()\n"
   ]
  },
  {
   "cell_type": "markdown",
   "id": "55d50e45",
   "metadata": {},
   "source": [
    "## Question 3: Square area and perimeter\n",
    "Prompt: Using functions, compute and print the area and perimeter for a given side length.\n"
   ]
  },
  {
   "cell_type": "code",
   "execution_count": null,
   "id": "c7dff625",
   "metadata": {},
   "outputs": [],
   "source": [
    "# Flow: read input -> validate -> compute -> output\n",
    "# Helper functions compute area/perimeter; wrapper orchestrates I/O\n",
    "\n",
    "def compute_square_area(side_length):\n",
    "    return side_length * side_length\n",
    "\n",
    "\n",
    "def compute_square_perimeter(side_length):\n",
    "    return 4 * side_length\n",
    "\n",
    "\n",
    "def square_area_and_perimeter():\n",
    "    try:\n",
    "        # Read input and parse to float\n",
    "        side_str = input(\"Enter the side length of the square: \").strip()\n",
    "        side = float(side_str)\n",
    "        # Validate domain\n",
    "        if side < 0:\n",
    "            print(\"Please enter a positive number to represent the side length.\")\n",
    "            return\n",
    "        # Compute\n",
    "        area = compute_square_area(side)\n",
    "        perimeter = compute_square_perimeter(side)\n",
    "        # Output\n",
    "        print(f\"Area of the square is {area}\")\n",
    "        print(f\"Perimeter of the square is {perimeter}\")\n",
    "    except ValueError:\n",
    "        # Handle non-numeric input\n",
    "        print(\"Invalid input. Please enter a numeric value for the side length.\")\n",
    "\n",
    "# Run example\n",
    "square_area_and_perimeter()\n"
   ]
  },
  {
   "cell_type": "markdown",
   "id": "a725d6a9",
   "metadata": {},
   "source": [
    "## Question 4: Uppercase or lowercase\n",
    "Prompt: Read a single alphabetic character and determine if it is uppercase or lowercase.\n"
   ]
  },
  {
   "cell_type": "code",
   "execution_count": null,
   "id": "98b9f7dd",
   "metadata": {},
   "outputs": [],
   "source": [
    "# Flow: read input -> validate -> branch -> output\n",
    "# Helper functions encapsulate case checks\n",
    "\n",
    "def is_uppercase(character):\n",
    "    return len(character) == 1 and character.isalpha() and character.isupper()\n",
    "\n",
    "\n",
    "def is_lowercase(character):\n",
    "    return len(character) == 1 and character.isalpha() and character.islower()\n",
    "\n",
    "\n",
    "def check_case():\n",
    "    try:\n",
    "        # Read a single character\n",
    "        input_value = input(\"Enter a single alphabetic character: \").strip()\n",
    "        # Validate exactly one alphabetic character\n",
    "        if len(input_value) != 1 or not input_value.isalpha():\n",
    "            print(\"Please enter exactly one alphabetic character (A-Z or a-z).\")\n",
    "            return\n",
    "        # Branch based on helper results\n",
    "        if is_uppercase(input_value):\n",
    "            print(\"The character is UPPERCASE.\")\n",
    "        elif is_lowercase(input_value):\n",
    "            print(\"The character is lowercase.\")\n",
    "        else:\n",
    "            print(\"The character is neither uppercase nor lowercase.\")\n",
    "    except Exception:\n",
    "        # Generic guard for unexpected input errors\n",
    "        print(\"An unexpected error occurred while reading input.\")\n",
    "\n",
    "# Run example\n",
    "check_case()\n"
   ]
  },
  {
   "cell_type": "markdown",
   "id": "30eac7df",
   "metadata": {},
   "source": [
    "## Question 5: Pseudocode translation\n",
    "Prompt: Implement the REPEAT...UNTIL logic described in the pseudocode.\n"
   ]
  },
  {
   "cell_type": "code",
   "execution_count": null,
   "id": "6b6aef04",
   "metadata": {},
   "outputs": [],
   "source": [
    "# Flow: initialize -> loop -> check condition -> output\n",
    "# Emulates REPEAT...UNTIL by executing the loop body before the check\n",
    "\n",
    "def repeat_until_demo():\n",
    "    # Initialize variables\n",
    "    x = 0\n",
    "    y = 20\n",
    "    while True:  # do-while pattern\n",
    "        # Update state\n",
    "        y -= 4\n",
    "        x += 2 / y\n",
    "        # UNTIL condition\n",
    "        if y < 6:\n",
    "            break\n",
    "    # Output final value\n",
    "    print(x)\n",
    "\n",
    "# Run example\n",
    "repeat_until_demo()\n"
   ]
  },
  {
   "cell_type": "markdown",
   "id": "b470e76d",
   "metadata": {},
   "source": [
    "## Question 6: Average of 5 numbers\n",
    "Prompt: Read 5 numeric values into a list and print their average.\n"
   ]
  },
  {
   "cell_type": "code",
   "execution_count": null,
   "id": "edcf90c3",
   "metadata": {},
   "outputs": [],
   "source": [
    "# Flow: loop to collect inputs -> validate each -> compute -> output\n",
    "\n",
    "def average_of_five():\n",
    "    values = []\n",
    "    count_required = 5\n",
    "    while len(values) < count_required:\n",
    "        try:\n",
    "            remaining = count_required - len(values)\n",
    "            # Read and parse\n",
    "            value_str = input(f\"Enter a number ({remaining} remaining): \").strip()\n",
    "            value = float(value_str)\n",
    "            values.append(value)\n",
    "        except ValueError:\n",
    "            # Keep asking until 5 valid numbers are collected\n",
    "            print(\"Invalid input. Please enter a numeric value.\")\n",
    "    # Compute average\n",
    "    avg = sum(values) / count_required\n",
    "    # Output\n",
    "    print(f\"You entered: {values}\")\n",
    "    print(f\"Average: {avg}\")\n",
    "\n",
    "# Run example\n",
    "average_of_five()\n"
   ]
  },
  {
   "cell_type": "markdown",
   "id": "cf3105e1",
   "metadata": {},
   "source": [
    "## Question 7: Resources\n",
    "See screenshots in the `images/` folder.\n"
   ]
  }
 ],
 "metadata": {
  "language_info": {
   "name": "python"
  }
 },
 "nbformat": 4,
 "nbformat_minor": 5
}
